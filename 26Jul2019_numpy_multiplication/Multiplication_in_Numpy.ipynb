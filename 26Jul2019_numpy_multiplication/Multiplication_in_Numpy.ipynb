{
  "nbformat": 4,
  "nbformat_minor": 0,
  "metadata": {
    "colab": {
      "name": "Multiplication in Numpy.ipynb",
      "version": "0.3.2",
      "provenance": [],
      "collapsed_sections": [],
      "toc_visible": true
    },
    "kernelspec": {
      "name": "python3",
      "display_name": "Python 3"
    }
  },
  "cells": [
    {
      "cell_type": "markdown",
      "metadata": {
        "id": "-r2p8wfwVRFp",
        "colab_type": "text"
      },
      "source": [
        "## Compare Multiplication in Numpy"
      ]
    },
    {
      "cell_type": "markdown",
      "metadata": {
        "id": "04nGl4dDVaOK",
        "colab_type": "text"
      },
      "source": [
        "The differences between np.dot(), np.matmul(), \"*\" and \"@\" are confusing to me. So I decide to experiment a bit to understand how it works.\n",
        "\n",
        "Additional numpy matrix operation not covered here:\n",
        "- np.inner\n",
        "- np.outer \n",
        "- np.vdot\n",
        "- np.tensordot\n",
        "\n",
        "**[Reference:](https://docs.scipy.org/doc/numpy/reference/routines.linalg.html)**\n",
        "\n",
        "Linear algebra (numpy.linalg)\n",
        "- Matrix and vector products\n",
        "\n",
        "Function | Description\n",
        "--- | ---\n",
        "dot(a, b[, out]) |\tDot product of two arrays.\n",
        "linalg.multi_dot(arrays)\t| Compute the dot product of two or more arrays in a single function call, while automatically selecting the fastest evaluation order.\n",
        "vdot(a, b)\t| Return the dot product of two vectors.\n",
        "inner(a, b)\t| Inner product of two arrays.\n",
        "outer(a, b[, out])\t| Compute the outer product of two vectors.\n",
        "matmul(x1, x2, /[, out, casting, order, …])\t| Matrix product of two arrays.\n",
        "tensordot(a, b[, axes])\t| Compute tensor dot product along specified axes for arrays >= 1-D.\n",
        "einsum(subscripts, *operands[, out, dtype, …])\t| Evaluates the Einstein summation convention on the operands.\n",
        "einsum_path(subscripts, *operands[, optimize])\t| Evaluates the lowest cost contraction order for an einsum expression by considering the creation of intermediate arrays.\n",
        "linalg.matrix_power(a, n)\t| Raise a square matrix to the (integer) power n.\n",
        "kron(a, b)\t| Kronecker product of two arrays."
      ]
    },
    {
      "cell_type": "code",
      "metadata": {
        "id": "abf5HiLWWuIP",
        "colab_type": "code",
        "colab": {}
      },
      "source": [
        "import numpy as np"
      ],
      "execution_count": 0,
      "outputs": []
    },
    {
      "cell_type": "code",
      "metadata": {
        "id": "DuTc3F1BPcWs",
        "colab_type": "code",
        "outputId": "8e1df50b-1cb3-47cc-ac0e-ff60fe7bb4f9",
        "colab": {
          "base_uri": "https://localhost:8080/",
          "height": 34
        }
      },
      "source": [
        "print(np.__version__)"
      ],
      "execution_count": 0,
      "outputs": [
        {
          "output_type": "stream",
          "text": [
            "1.16.4\n"
          ],
          "name": "stdout"
        }
      ]
    },
    {
      "cell_type": "markdown",
      "metadata": {
        "id": "eOIA4pCxVzfg",
        "colab_type": "text"
      },
      "source": [
        "### Reference"
      ]
    },
    {
      "cell_type": "markdown",
      "metadata": {
        "id": "hPmXRaTS5nbg",
        "colab_type": "text"
      },
      "source": [
        "[**numpy.dot:**](https://docs.scipy.org/doc/numpy/reference/generated/numpy.dot.html?highlight=matrix%20multiplication)\n",
        "\n",
        "\n",
        "Dot product of two arrays. Specifically,\n",
        "\n",
        "* If both a and b are 1-D arrays, it is inner product of vectors (without complex conjugation).\n",
        "\n",
        "* If both a and b are 2-D arrays, it is matrix multiplication, but using matmul or a @ b is preferred.\n",
        "\n",
        "* If either a or b is 0-D (scalar), it is equivalent to multiply and using numpy.multiply(a, b) or a * b is preferred.\n",
        "\n",
        "* If a is an N-D array and b is a 1-D array, it is a sum product over the last axis of a and b.\n",
        "\n",
        "* If a is an N-D array and b is an M-D array (where M>=2), it is a sum product over the last axis of a and the second-to-last axis of b:\n",
        "\n",
        "`\n",
        "dot(a, b)[i,j,k,m] = sum(a[i,j,:] * b[k,:,m])\n",
        "`"
      ]
    },
    {
      "cell_type": "markdown",
      "metadata": {
        "id": "cz21700hMQ3d",
        "colab_type": "text"
      },
      "source": [
        "[**numpy.matmul**](https://docs.scipy.org/doc/numpy/reference/generated/numpy.tensordot.html)\n",
        "\n",
        "numpy.matmul(x1, x2, /, out=None, *, casting='same_kind', order='K', dtype=None, subok=True[, signature, extobj]) = <ufunc 'matmul'>\n",
        "\n",
        "- Matrix product of two arrays.\n",
        "\n",
        "Parameters:\t\n",
        "x1, x2 : array_like\n",
        "Input arrays, *scalars not allowed.*\n",
        "\n",
        "out : ndarray, optional\n",
        "A location into which the result is stored. If provided, it must have a shape that matches the signature (n,k),(k,m)->(n,m). If not provided or None, a freshly-allocated array is returned.\n",
        "\n",
        "**kwargs\n",
        "For other keyword-only arguments, see the ufunc docs.\n",
        "\n",
        "..versionadded:: 1.16\n",
        "Now handles ufunc kwargs\n",
        "\n",
        "Returns:\t\n",
        "y : ndarray\n",
        "The matrix product of the inputs. This is a scalar only when both x1, x2 are 1-d vectors.\n",
        "\n",
        "Raises:\t\n",
        "ValueError\n",
        "If the last dimension of a is not the same size as the second-to-last dimension of b.\n",
        "\n",
        "If a scalar value is passed in."
      ]
    },
    {
      "cell_type": "markdown",
      "metadata": {
        "id": "Hu1KopiqN2fX",
        "colab_type": "text"
      },
      "source": [
        "The behavior depends on the arguments in the following way.\n",
        "\n",
        "- If both arguments are 2-D they are multiplied like conventional matrices.\n",
        "- If either argument is N-D, N > 2, it is treated as a stack of matrices residing in the last two indexes and broadcast accordingly.\n",
        "- If the first argument is 1-D, it is promoted to a matrix by prepending a 1 to its dimensions. After matrix multiplication the prepended 1 is removed.\n",
        "- If the second argument is 1-D, it is promoted to a matrix by appending a 1 to its dimensions. After matrix multiplication the appended 1 is removed."
      ]
    },
    {
      "cell_type": "markdown",
      "metadata": {
        "id": "CaZStwQV6W6_",
        "colab_type": "text"
      },
      "source": [
        "[**\"@\"**\n",
        "](https://docs.python.org/3/whatsnew/3.5.html#whatsnew-pep-465)\n",
        "\n",
        "The @ operator calls the array's __matmul__ method, not dot. This method is also present in the API as the function np.matmul"
      ]
    },
    {
      "cell_type": "markdown",
      "metadata": {
        "id": "VgLaK_-QPzL_",
        "colab_type": "text"
      },
      "source": [
        "[**numpy.multiply**](https://docs.scipy.org/doc/numpy/reference/generated/numpy.multiply.html)\n",
        "\n",
        "Equivalent to x1 * x2 in terms of array broadcasting.\n",
        "\n",
        "Multiply arguments **element-wise.**"
      ]
    },
    {
      "cell_type": "markdown",
      "metadata": {
        "id": "Lv4uZ2VuWfbG",
        "colab_type": "text"
      },
      "source": [
        "### Dimensions Testing"
      ]
    },
    {
      "cell_type": "markdown",
      "metadata": {
        "id": "pcwqMMHTW2_O",
        "colab_type": "text"
      },
      "source": [
        "#### Scalar"
      ]
    },
    {
      "cell_type": "code",
      "metadata": {
        "id": "sAw4BLVvWjw6",
        "colab_type": "code",
        "colab": {}
      },
      "source": [
        "a = 1\n",
        "b = 2"
      ],
      "execution_count": 0,
      "outputs": []
    },
    {
      "cell_type": "code",
      "metadata": {
        "id": "EIwnotz3WpMJ",
        "colab_type": "code",
        "outputId": "91a2f55d-c60a-4f18-d49b-2c099030749d",
        "colab": {
          "base_uri": "https://localhost:8080/",
          "height": 34
        }
      },
      "source": [
        "a * b"
      ],
      "execution_count": 0,
      "outputs": [
        {
          "output_type": "execute_result",
          "data": {
            "text/plain": [
              "2"
            ]
          },
          "metadata": {
            "tags": []
          },
          "execution_count": 13
        }
      ]
    },
    {
      "cell_type": "code",
      "metadata": {
        "id": "zQUSpa3ISS2w",
        "colab_type": "code",
        "outputId": "7be06e0d-7511-4fb9-e468-10f73379edee",
        "colab": {
          "base_uri": "https://localhost:8080/",
          "height": 34
        }
      },
      "source": [
        "np.multiply(a, b)"
      ],
      "execution_count": 0,
      "outputs": [
        {
          "output_type": "execute_result",
          "data": {
            "text/plain": [
              "2"
            ]
          },
          "metadata": {
            "tags": []
          },
          "execution_count": 19
        }
      ]
    },
    {
      "cell_type": "code",
      "metadata": {
        "id": "zy11PSKbWsdY",
        "colab_type": "code",
        "outputId": "58f99641-c7eb-4890-e681-90ff9eb46b44",
        "colab": {
          "base_uri": "https://localhost:8080/",
          "height": 34
        }
      },
      "source": [
        "np.dot(a,b)"
      ],
      "execution_count": 0,
      "outputs": [
        {
          "output_type": "execute_result",
          "data": {
            "text/plain": [
              "2"
            ]
          },
          "metadata": {
            "tags": []
          },
          "execution_count": 4
        }
      ]
    },
    {
      "cell_type": "code",
      "metadata": {
        "id": "C7-wlRwsiCkd",
        "colab_type": "code",
        "colab": {}
      },
      "source": [
        "a @ b"
      ],
      "execution_count": 0,
      "outputs": []
    },
    {
      "cell_type": "code",
      "metadata": {
        "id": "iL35vFTqiDuG",
        "colab_type": "code",
        "colab": {}
      },
      "source": [
        "np.matmul(a,b)"
      ],
      "execution_count": 0,
      "outputs": []
    },
    {
      "cell_type": "markdown",
      "metadata": {
        "id": "Y65XMFiR2Kvy",
        "colab_type": "text"
      },
      "source": [
        "**a @ b**\n",
        "or \n",
        "**np.matmul(a,b)**\n",
        "is not supported\n",
        "\n",
        "matmul differs from dot in two important ways.\n",
        "\n",
        "* Multiplication by scalars is not allowed.\n",
        "* Stacks of matrices are broadcast together as if the matrices were elements."
      ]
    },
    {
      "cell_type": "markdown",
      "metadata": {
        "id": "gc9Vljkosci6",
        "colab_type": "text"
      },
      "source": [
        "What does it mean by broadcast together as if the matrices were elements?\n",
        "\n",
        "[Reference](https://stackoverflow.com/questions/34142485/difference-between-numpy-dot-and-python-3-5-matrix-multiplication)\n",
        "\n",
        "**dot** and **matmul** methods behave differently when passed 3D (or higher dimensional) arrays. Quoting from the documentation some more:\n",
        "\n",
        "**matmul**:\n",
        "\n",
        "If either argument is N-D, N > 2, it is treated as a stack of matrices residing in the last two indexes and broadcast accordingly.\n",
        "\n",
        "**dot**: \n",
        "\n",
        "For 2-D arrays it is equivalent to matrix multiplication, and for 1-D arrays to inner product of vectors (without complex conjugation). For N dimensions it is a sum product over the last axis of a and the second-to-last of b"
      ]
    },
    {
      "cell_type": "code",
      "metadata": {
        "id": "AgYq0_f_QOXn",
        "colab_type": "code",
        "outputId": "c4f2544e-64f4-4ed7-a00e-a4f2615bfbd8",
        "colab": {
          "base_uri": "https://localhost:8080/",
          "height": 34
        }
      },
      "source": [
        "np.matmul([a],[b]) # input not allow scalar"
      ],
      "execution_count": 0,
      "outputs": [
        {
          "output_type": "execute_result",
          "data": {
            "text/plain": [
              "2"
            ]
          },
          "metadata": {
            "tags": []
          },
          "execution_count": 15
        }
      ]
    },
    {
      "cell_type": "code",
      "metadata": {
        "id": "QnNZrlf-R9AZ",
        "colab_type": "code",
        "outputId": "38e85387-2edf-4656-a265-27f5399bda2c",
        "colab": {
          "base_uri": "https://localhost:8080/",
          "height": 34
        }
      },
      "source": [
        "np.array([a]) @ np.array([b]) # normal python list not supported by '@'"
      ],
      "execution_count": 0,
      "outputs": [
        {
          "output_type": "execute_result",
          "data": {
            "text/plain": [
              "2"
            ]
          },
          "metadata": {
            "tags": []
          },
          "execution_count": 18
        }
      ]
    },
    {
      "cell_type": "markdown",
      "metadata": {
        "id": "C3T3R09ZW7Bv",
        "colab_type": "text"
      },
      "source": [
        "#### 1D array with scalar"
      ]
    },
    {
      "cell_type": "code",
      "metadata": {
        "id": "o5v6_JMmW1Jz",
        "colab_type": "code",
        "colab": {}
      },
      "source": [
        "a = [1, 2]\n",
        "b = 3"
      ],
      "execution_count": 0,
      "outputs": []
    },
    {
      "cell_type": "code",
      "metadata": {
        "id": "teGVnPqKXDTx",
        "colab_type": "code",
        "outputId": "6d7d6c83-b1de-4b35-aa12-70858bad63ec",
        "colab": {
          "base_uri": "https://localhost:8080/",
          "height": 35
        }
      },
      "source": [
        "a * b"
      ],
      "execution_count": 2,
      "outputs": [
        {
          "output_type": "execute_result",
          "data": {
            "text/plain": [
              "[1, 2, 1, 2, 1, 2]"
            ]
          },
          "metadata": {
            "tags": []
          },
          "execution_count": 2
        }
      ]
    },
    {
      "cell_type": "code",
      "metadata": {
        "id": "mPnHhbFbidnw",
        "colab_type": "code",
        "colab": {
          "base_uri": "https://localhost:8080/",
          "height": 35
        },
        "outputId": "f4816510-a40f-4c5c-9a66-a5152b27bf9a"
      },
      "source": [
        "np.multiply(a, b)"
      ],
      "execution_count": 5,
      "outputs": [
        {
          "output_type": "execute_result",
          "data": {
            "text/plain": [
              "array([3, 6])"
            ]
          },
          "metadata": {
            "tags": []
          },
          "execution_count": 5
        }
      ]
    },
    {
      "cell_type": "markdown",
      "metadata": {
        "id": "1h2izEul5Zgt",
        "colab_type": "text"
      },
      "source": [
        "-> List multiply with n is copy and extend list itself n times"
      ]
    },
    {
      "cell_type": "markdown",
      "metadata": {
        "id": "n0EbPk-W5j_f",
        "colab_type": "text"
      },
      "source": [
        "-> **np.dot** is element-wise, which is equal to numpy array multiplication"
      ]
    },
    {
      "cell_type": "code",
      "metadata": {
        "id": "P66Z-Hg7XEfW",
        "colab_type": "code",
        "outputId": "73547ae0-0be7-4e10-8e6f-1ae63123216e",
        "colab": {
          "base_uri": "https://localhost:8080/",
          "height": 34
        }
      },
      "source": [
        "np.dot(a, b)"
      ],
      "execution_count": 0,
      "outputs": [
        {
          "output_type": "execute_result",
          "data": {
            "text/plain": [
              "array([3, 6])"
            ]
          },
          "metadata": {
            "tags": []
          },
          "execution_count": 10
        }
      ]
    },
    {
      "cell_type": "code",
      "metadata": {
        "id": "TkANpYHlTn2k",
        "colab_type": "code",
        "outputId": "adf64f04-6f13-4700-cdd4-f8cf38126f9c",
        "colab": {
          "base_uri": "https://localhost:8080/",
          "height": 34
        }
      },
      "source": [
        "np.array(a) * b # same as np.multiply(a, b), because of array broadcasting"
      ],
      "execution_count": 0,
      "outputs": [
        {
          "output_type": "execute_result",
          "data": {
            "text/plain": [
              "array([3, 6])"
            ]
          },
          "metadata": {
            "tags": []
          },
          "execution_count": 36
        }
      ]
    },
    {
      "cell_type": "markdown",
      "metadata": {
        "id": "fRsnRHuIX3-O",
        "colab_type": "text"
      },
      "source": [
        "**Ref.** [numpy broadcasting](https://docs.scipy.org/doc/numpy-1.15.0/user/basics.broadcasting.html)\n",
        "\n",
        "[Ref. 2](https://scipy-lectures.org/intro/numpy/operations.html#broadcasting)"
      ]
    },
    {
      "cell_type": "code",
      "metadata": {
        "id": "lgX9G3xoXlme",
        "colab_type": "code",
        "outputId": "19834bbc-e350-46db-9e84-6bd32c688624",
        "colab": {
          "base_uri": "https://localhost:8080/",
          "height": 34
        }
      },
      "source": [
        "np.multiply(a, b)"
      ],
      "execution_count": 0,
      "outputs": [
        {
          "output_type": "execute_result",
          "data": {
            "text/plain": [
              "array([3, 6])"
            ]
          },
          "metadata": {
            "tags": []
          },
          "execution_count": 37
        }
      ]
    },
    {
      "cell_type": "markdown",
      "metadata": {
        "id": "TU9TC_BmTVVg",
        "colab_type": "text"
      },
      "source": [
        "**np.matmul** only accepts ndarray"
      ]
    },
    {
      "cell_type": "code",
      "metadata": {
        "id": "_Caf6bkZiuTt",
        "colab_type": "code",
        "colab": {
          "base_uri": "https://localhost:8080/",
          "height": 35
        },
        "outputId": "7afce54f-89b9-4d8d-e6b6-e45efa52b952"
      },
      "source": [
        "np.array(a).shape"
      ],
      "execution_count": 6,
      "outputs": [
        {
          "output_type": "execute_result",
          "data": {
            "text/plain": [
              "(2,)"
            ]
          },
          "metadata": {
            "tags": []
          },
          "execution_count": 6
        }
      ]
    },
    {
      "cell_type": "code",
      "metadata": {
        "id": "QFY_G_FXTADq",
        "colab_type": "code",
        "outputId": "1abdabc5-9a3b-4ee3-af8f-9cd0d73a65d2",
        "colab": {
          "base_uri": "https://localhost:8080/",
          "height": 34
        }
      },
      "source": [
        "np.array(a)[:,None].shape"
      ],
      "execution_count": 0,
      "outputs": [
        {
          "output_type": "execute_result",
          "data": {
            "text/plain": [
              "(2, 1)"
            ]
          },
          "metadata": {
            "tags": []
          },
          "execution_count": 34
        }
      ]
    },
    {
      "cell_type": "code",
      "metadata": {
        "id": "uFiWV0Wdi23O",
        "colab_type": "code",
        "colab": {
          "base_uri": "https://localhost:8080/",
          "height": 52
        },
        "outputId": "3b850dba-fad5-4251-c1c0-e01a77553b98"
      },
      "source": [
        "np.array(a)[:,None]"
      ],
      "execution_count": 7,
      "outputs": [
        {
          "output_type": "execute_result",
          "data": {
            "text/plain": [
              "array([[1],\n",
              "       [2]])"
            ]
          },
          "metadata": {
            "tags": []
          },
          "execution_count": 7
        }
      ]
    },
    {
      "cell_type": "code",
      "metadata": {
        "id": "vUuUYe2OStoA",
        "colab_type": "code",
        "outputId": "085d5a91-3445-4d94-c13c-eb1fe2572bae",
        "colab": {
          "base_uri": "https://localhost:8080/",
          "height": 34
        }
      },
      "source": [
        "np.matmul(np.array(a)[:,None], [b])"
      ],
      "execution_count": 0,
      "outputs": [
        {
          "output_type": "execute_result",
          "data": {
            "text/plain": [
              "array([3, 6])"
            ]
          },
          "metadata": {
            "tags": []
          },
          "execution_count": 35
        }
      ]
    },
    {
      "cell_type": "markdown",
      "metadata": {
        "id": "4gE76UuZXejB",
        "colab_type": "text"
      },
      "source": [
        "#### 1D array & 1D array"
      ]
    },
    {
      "cell_type": "code",
      "metadata": {
        "id": "annCon48XSaV",
        "colab_type": "code",
        "colab": {}
      },
      "source": [
        "a = [1,2]\n",
        "b = [2,3]\n",
        "c = [3,4,5]"
      ],
      "execution_count": 0,
      "outputs": []
    },
    {
      "cell_type": "code",
      "metadata": {
        "id": "NzmmoKrOkNLC",
        "colab_type": "code",
        "colab": {
          "base_uri": "https://localhost:8080/",
          "height": 185
        },
        "outputId": "118ce1f4-b77e-44b6-a86b-8eb83c0828c0"
      },
      "source": [
        "a * b"
      ],
      "execution_count": 9,
      "outputs": [
        {
          "output_type": "error",
          "ename": "TypeError",
          "evalue": "ignored",
          "traceback": [
            "\u001b[0;31m---------------------------------------------------------------------------\u001b[0m",
            "\u001b[0;31mTypeError\u001b[0m                                 Traceback (most recent call last)",
            "\u001b[0;32m<ipython-input-9-9bc1a869709f>\u001b[0m in \u001b[0;36m<module>\u001b[0;34m()\u001b[0m\n\u001b[0;32m----> 1\u001b[0;31m \u001b[0ma\u001b[0m \u001b[0;34m*\u001b[0m \u001b[0mb\u001b[0m\u001b[0;34m\u001b[0m\u001b[0;34m\u001b[0m\u001b[0m\n\u001b[0m",
            "\u001b[0;31mTypeError\u001b[0m: can't multiply sequence by non-int of type 'list'"
          ]
        }
      ]
    },
    {
      "cell_type": "code",
      "metadata": {
        "id": "TLM3lwiPXn1O",
        "colab_type": "code",
        "outputId": "f617214d-0158-4199-f967-b9c79bbeb497",
        "colab": {
          "base_uri": "https://localhost:8080/",
          "height": 34
        }
      },
      "source": [
        "np.multiply(a,b) # treat as numpy array element-wise, (a,c) won't work becasue of shape difference"
      ],
      "execution_count": 0,
      "outputs": [
        {
          "output_type": "execute_result",
          "data": {
            "text/plain": [
              "array([2, 6])"
            ]
          },
          "metadata": {
            "tags": []
          },
          "execution_count": 41
        }
      ]
    },
    {
      "cell_type": "code",
      "metadata": {
        "id": "pnqDzHt3ZXQo",
        "colab_type": "code",
        "outputId": "d3c94dd4-503a-4ede-dd1f-c03fb0a91948",
        "colab": {
          "base_uri": "https://localhost:8080/",
          "height": 34
        }
      },
      "source": [
        "np.asarray(a) * np.asarray(b)"
      ],
      "execution_count": 0,
      "outputs": [
        {
          "output_type": "execute_result",
          "data": {
            "text/plain": [
              "array([2, 6])"
            ]
          },
          "metadata": {
            "tags": []
          },
          "execution_count": 47
        }
      ]
    },
    {
      "cell_type": "code",
      "metadata": {
        "id": "JNiRd3QDkd26",
        "colab_type": "code",
        "colab": {
          "base_uri": "https://localhost:8080/",
          "height": 35
        },
        "outputId": "8881e341-1766-428c-9619-e7c9084c7be2"
      },
      "source": [
        "np.array(a) * b"
      ],
      "execution_count": 10,
      "outputs": [
        {
          "output_type": "execute_result",
          "data": {
            "text/plain": [
              "array([2, 6])"
            ]
          },
          "metadata": {
            "tags": []
          },
          "execution_count": 10
        }
      ]
    },
    {
      "cell_type": "markdown",
      "metadata": {
        "id": "6hPGXy2GYMJp",
        "colab_type": "text"
      },
      "source": [
        "-> After convert to numpy array, two 1D arrays multiplication is element-wise using operation \"*\""
      ]
    },
    {
      "cell_type": "markdown",
      "metadata": {
        "id": "1TJYyxZmZoE9",
        "colab_type": "text"
      },
      "source": [
        "Ref. [np.array vs np.asarray](https://stackoverflow.com/questions/14415741/numpy-array-vs-asarray)"
      ]
    },
    {
      "cell_type": "markdown",
      "metadata": {
        "id": "PPdR8pUaZtSh",
        "colab_type": "text"
      },
      "source": [
        "**np.dot**, **np.matmul** and **@** give same result for 1D array x 1D array, return dot product of 2 array\n",
        "\n",
        "- Use '@' after confirm it is operating on numpy object"
      ]
    },
    {
      "cell_type": "code",
      "metadata": {
        "id": "5BZ3f5qsXpFI",
        "colab_type": "code",
        "outputId": "0f22ecce-ef94-4775-8c01-f031f3e02650",
        "colab": {
          "base_uri": "https://localhost:8080/",
          "height": 34
        }
      },
      "source": [
        "np.dot(a,b) # 1x2 + 2x3"
      ],
      "execution_count": 0,
      "outputs": [
        {
          "output_type": "execute_result",
          "data": {
            "text/plain": [
              "8"
            ]
          },
          "metadata": {
            "tags": []
          },
          "execution_count": 43
        }
      ]
    },
    {
      "cell_type": "code",
      "metadata": {
        "id": "Pea1_v7yXsNK",
        "colab_type": "code",
        "outputId": "2af08458-7c49-4fc8-f42e-670ec28e5194",
        "colab": {
          "base_uri": "https://localhost:8080/",
          "height": 34
        }
      },
      "source": [
        "np.matmul(a,b) # same matrix multiplication as np.dot"
      ],
      "execution_count": 0,
      "outputs": [
        {
          "output_type": "execute_result",
          "data": {
            "text/plain": [
              "8"
            ]
          },
          "metadata": {
            "tags": []
          },
          "execution_count": 44
        }
      ]
    },
    {
      "cell_type": "code",
      "metadata": {
        "id": "s07_vdL1ZApY",
        "colab_type": "code",
        "outputId": "d5eeee6c-92e1-4a3a-b942-1472bc932c78",
        "colab": {
          "base_uri": "https://localhost:8080/",
          "height": 34
        }
      },
      "source": [
        "np.array(a) @ np.asarray(b) # convert to numpy array before using `@`"
      ],
      "execution_count": 0,
      "outputs": [
        {
          "output_type": "execute_result",
          "data": {
            "text/plain": [
              "8"
            ]
          },
          "metadata": {
            "tags": []
          },
          "execution_count": 46
        }
      ]
    },
    {
      "cell_type": "markdown",
      "metadata": {
        "id": "EW9k-3VoZMW4",
        "colab_type": "text"
      },
      "source": [
        "Generally it is a good practice to convert to numpy array first, instead of using python's default list, unless need some special functionality"
      ]
    },
    {
      "cell_type": "markdown",
      "metadata": {
        "id": "ew4T3DlxY5ZA",
        "colab_type": "text"
      },
      "source": [
        "#### 2D array & 1D array"
      ]
    },
    {
      "cell_type": "code",
      "metadata": {
        "id": "AdsCW-L0Y8Bj",
        "colab_type": "code",
        "colab": {}
      },
      "source": [
        "a = np.array([[1,2],\n",
        "              [3,4]])\n",
        "b = np.array([5,6])"
      ],
      "execution_count": 0,
      "outputs": []
    },
    {
      "cell_type": "code",
      "metadata": {
        "id": "tGEWLjKqdbBT",
        "colab_type": "code",
        "outputId": "a85b6046-de41-4aca-f30d-b9f667140159",
        "colab": {
          "base_uri": "https://localhost:8080/",
          "height": 50
        }
      },
      "source": [
        "a * b # same as np.multiply(a,b), element-wise product (hadamard product)"
      ],
      "execution_count": 0,
      "outputs": [
        {
          "output_type": "execute_result",
          "data": {
            "text/plain": [
              "array([[ 5, 12],\n",
              "       [15, 24]])"
            ]
          },
          "metadata": {
            "tags": []
          },
          "execution_count": 81
        }
      ]
    },
    {
      "cell_type": "code",
      "metadata": {
        "id": "dyJPXExCdibB",
        "colab_type": "code",
        "outputId": "9a3790bf-9b9e-493e-a5e4-e85a417a9c87",
        "colab": {
          "base_uri": "https://localhost:8080/",
          "height": 34
        }
      },
      "source": [
        "a @ b # same as np.matmul(a,b) and np.dot(a,b), dot product"
      ],
      "execution_count": 0,
      "outputs": [
        {
          "output_type": "execute_result",
          "data": {
            "text/plain": [
              "array([17, 39])"
            ]
          },
          "metadata": {
            "tags": []
          },
          "execution_count": 82
        }
      ]
    },
    {
      "cell_type": "code",
      "metadata": {
        "id": "M4tYfzEnXIoO",
        "colab_type": "code",
        "outputId": "af6f3b55-e85c-4a59-996e-f826f9407c38",
        "colab": {
          "base_uri": "https://localhost:8080/",
          "height": 34
        }
      },
      "source": [
        "a.dot(b)\n",
        "# [5 + 12, 15 + 24]"
      ],
      "execution_count": 0,
      "outputs": [
        {
          "output_type": "execute_result",
          "data": {
            "text/plain": [
              "array([17, 39])"
            ]
          },
          "metadata": {
            "tags": []
          },
          "execution_count": 83
        }
      ]
    },
    {
      "cell_type": "code",
      "metadata": {
        "id": "fbHMCj9rXLd8",
        "colab_type": "code",
        "outputId": "1dafbc9c-3031-45b4-ab29-c340c46d2c66",
        "colab": {
          "base_uri": "https://localhost:8080/",
          "height": 34
        }
      },
      "source": [
        "b.dot(a)\n",
        "# [5 + 18, 10 + 24]"
      ],
      "execution_count": 0,
      "outputs": [
        {
          "output_type": "execute_result",
          "data": {
            "text/plain": [
              "array([23, 34])"
            ]
          },
          "metadata": {
            "tags": []
          },
          "execution_count": 84
        }
      ]
    },
    {
      "cell_type": "code",
      "metadata": {
        "id": "GhOlcV3DXNJU",
        "colab_type": "code",
        "outputId": "e29ceb2e-9906-4fef-f6b9-20417d0b6f8b",
        "colab": {
          "base_uri": "https://localhost:8080/",
          "height": 34
        }
      },
      "source": [
        "b @ a"
      ],
      "execution_count": 0,
      "outputs": [
        {
          "output_type": "execute_result",
          "data": {
            "text/plain": [
              "array([23, 34])"
            ]
          },
          "metadata": {
            "tags": []
          },
          "execution_count": 85
        }
      ]
    },
    {
      "cell_type": "markdown",
      "metadata": {
        "id": "CeY4lwMj7tTi",
        "colab_type": "text"
      },
      "source": [
        "#### 2D array & 2D array"
      ]
    },
    {
      "cell_type": "code",
      "metadata": {
        "id": "1osvPU0JYFHr",
        "colab_type": "code",
        "colab": {}
      },
      "source": [
        "a = np.array([[1,2],\n",
        "              [3,4]])\n",
        "b = np.array([[5,6],\n",
        "              [7,8]])"
      ],
      "execution_count": 0,
      "outputs": []
    },
    {
      "cell_type": "code",
      "metadata": {
        "id": "yQfzsMKm7rQV",
        "colab_type": "code",
        "outputId": "a56b43cf-9487-4ab8-9e02-359195465d6d",
        "colab": {
          "base_uri": "https://localhost:8080/",
          "height": 50
        }
      },
      "source": [
        "a * b # same as np.multiply(a,b) -> a.shape == b.shape (because of element-wise)"
      ],
      "execution_count": 0,
      "outputs": [
        {
          "output_type": "execute_result",
          "data": {
            "text/plain": [
              "array([[ 5, 12],\n",
              "       [21, 32]])"
            ]
          },
          "metadata": {
            "tags": []
          },
          "execution_count": 4
        }
      ]
    },
    {
      "cell_type": "code",
      "metadata": {
        "id": "Ctk8xLIS70Fg",
        "colab_type": "code",
        "outputId": "f22730d6-8b92-40cd-e0c7-3e29d7674d9a",
        "colab": {
          "base_uri": "https://localhost:8080/",
          "height": 50
        }
      },
      "source": [
        "a @ b # same as np.matmul(a,b) -> a.shape[1] == b.shape[0] (because of matrix multiplication)"
      ],
      "execution_count": 0,
      "outputs": [
        {
          "output_type": "execute_result",
          "data": {
            "text/plain": [
              "array([[19, 22],\n",
              "       [43, 50]])"
            ]
          },
          "metadata": {
            "tags": []
          },
          "execution_count": 5
        }
      ]
    },
    {
      "cell_type": "code",
      "metadata": {
        "id": "8LVUWeHJ71ff",
        "colab_type": "code",
        "outputId": "a8c145e5-0fe7-4a59-a481-b9f9d1c24243",
        "colab": {
          "base_uri": "https://localhost:8080/",
          "height": 50
        }
      },
      "source": [
        "np.dot(a,b) # same dot product as \"a @ b\""
      ],
      "execution_count": 0,
      "outputs": [
        {
          "output_type": "execute_result",
          "data": {
            "text/plain": [
              "array([[19, 22],\n",
              "       [43, 50]])"
            ]
          },
          "metadata": {
            "tags": []
          },
          "execution_count": 6
        }
      ]
    },
    {
      "cell_type": "markdown",
      "metadata": {
        "id": "KJmgay6LeYlh",
        "colab_type": "text"
      },
      "source": [
        "If both a and b are 2-D arrays, it is matrix multiplication, but using matmul or a @ b is preferred.\n",
        "[Ref. ](https://stackoverflow.com/questions/52062496/why-is-a-dotb-faster-than-ab-although-numpy-recommends-ab)"
      ]
    },
    {
      "cell_type": "markdown",
      "metadata": {
        "id": "cptl8sBVI7q3",
        "colab_type": "text"
      },
      "source": [
        "**Exception** *np.matrix class*\n",
        "\n",
        "a * b is no longer element-wise but matrix multiplication"
      ]
    },
    {
      "cell_type": "code",
      "metadata": {
        "id": "EilDfLuzJJHh",
        "colab_type": "code",
        "colab": {}
      },
      "source": [
        "a = np.matrix([[1,2],\n",
        "               [3,4]])\n",
        "b = np.matrix([[5,6],\n",
        "               [7,8]])"
      ],
      "execution_count": 0,
      "outputs": []
    },
    {
      "cell_type": "code",
      "metadata": {
        "id": "9OShn0PEJOTD",
        "colab_type": "code",
        "outputId": "dae278f3-c255-4c5e-c4b2-fbfc6ec6e51c",
        "colab": {
          "base_uri": "https://localhost:8080/",
          "height": 50
        }
      },
      "source": [
        "a * b"
      ],
      "execution_count": 0,
      "outputs": [
        {
          "output_type": "execute_result",
          "data": {
            "text/plain": [
              "matrix([[19, 22],\n",
              "        [43, 50]])"
            ]
          },
          "metadata": {
            "tags": []
          },
          "execution_count": 33
        }
      ]
    },
    {
      "cell_type": "code",
      "metadata": {
        "id": "O8HwkU2fJK4J",
        "colab_type": "code",
        "outputId": "b70087ad-2884-4d1f-d99b-66c0632c2813",
        "colab": {
          "base_uri": "https://localhost:8080/",
          "height": 50
        }
      },
      "source": [
        "a @ b"
      ],
      "execution_count": 0,
      "outputs": [
        {
          "output_type": "execute_result",
          "data": {
            "text/plain": [
              "matrix([[19, 22],\n",
              "        [43, 50]])"
            ]
          },
          "metadata": {
            "tags": []
          },
          "execution_count": 34
        }
      ]
    },
    {
      "cell_type": "code",
      "metadata": {
        "id": "xx9mLLAvJSeo",
        "colab_type": "code",
        "outputId": "0bb5c879-7016-416b-96e3-d75f82931d8a",
        "colab": {
          "base_uri": "https://localhost:8080/",
          "height": 50
        }
      },
      "source": [
        "a.dot(b)"
      ],
      "execution_count": 0,
      "outputs": [
        {
          "output_type": "execute_result",
          "data": {
            "text/plain": [
              "matrix([[19, 22],\n",
              "        [43, 50]])"
            ]
          },
          "metadata": {
            "tags": []
          },
          "execution_count": 35
        }
      ]
    },
    {
      "cell_type": "code",
      "metadata": {
        "id": "wURqrlZ-oY2Y",
        "colab_type": "code",
        "colab": {
          "base_uri": "https://localhost:8080/",
          "height": 52
        },
        "outputId": "e7b3e499-6209-4294-99ab-4bb4bf03fa21"
      },
      "source": [
        "b @ a"
      ],
      "execution_count": 14,
      "outputs": [
        {
          "output_type": "execute_result",
          "data": {
            "text/plain": [
              "matrix([[23, 34],\n",
              "        [31, 46]])"
            ]
          },
          "metadata": {
            "tags": []
          },
          "execution_count": 14
        }
      ]
    },
    {
      "cell_type": "markdown",
      "metadata": {
        "id": "X6hzPOI3JZWJ",
        "colab_type": "text"
      },
      "source": [
        "\"*\", \"@\" and np.dot give same result"
      ]
    },
    {
      "cell_type": "markdown",
      "metadata": {
        "id": "tpp7-8Q0iCoQ",
        "colab_type": "text"
      },
      "source": [
        "#### 3D array & 1D array"
      ]
    },
    {
      "cell_type": "code",
      "metadata": {
        "id": "VzP2b_D5iFaq",
        "colab_type": "code",
        "colab": {}
      },
      "source": [
        "a = np.array([[[1,2,3],\n",
        "               [2,3,4]],\n",
        "              [[3,4,5],\n",
        "               [4,5,6]]])\n",
        "b = np.array([1,2,3])"
      ],
      "execution_count": 0,
      "outputs": []
    },
    {
      "cell_type": "code",
      "metadata": {
        "id": "J6fQM5YQBIqM",
        "colab_type": "code",
        "outputId": "b02ad5fd-587b-49a0-d992-d19a81dfb569",
        "colab": {
          "base_uri": "https://localhost:8080/",
          "height": 50
        }
      },
      "source": [
        "print(a.shape)\n",
        "print(b.shape)"
      ],
      "execution_count": 0,
      "outputs": [
        {
          "output_type": "stream",
          "text": [
            "(2, 2, 3)\n",
            "(3,)\n"
          ],
          "name": "stdout"
        }
      ]
    },
    {
      "cell_type": "code",
      "metadata": {
        "id": "IPjZZMM1Amx0",
        "colab_type": "code",
        "outputId": "c96fe6e4-9af9-4894-971f-1eef5e27ec7c",
        "colab": {
          "base_uri": "https://localhost:8080/",
          "height": 101
        }
      },
      "source": [
        "a * b # same as np.multiply(a,b), broadcasting\n",
        "# b -> [[[1,2,3],\n",
        "#        [1,2,3]],\n",
        "#       [[1,2,3],\n",
        "#        [1,2,3]]]"
      ],
      "execution_count": 0,
      "outputs": [
        {
          "output_type": "execute_result",
          "data": {
            "text/plain": [
              "array([[[ 1,  4,  9],\n",
              "        [ 2,  6, 12]],\n",
              "\n",
              "       [[ 3,  8, 15],\n",
              "        [ 4, 10, 18]]])"
            ]
          },
          "metadata": {
            "tags": []
          },
          "execution_count": 16
        }
      ]
    },
    {
      "cell_type": "markdown",
      "metadata": {
        "id": "D-ooaZejBX0A",
        "colab_type": "text"
      },
      "source": [
        "**np.dot()**\n",
        "\n",
        "- For 2-D arrays it is equivalent to matrix multiplication\n",
        "- For 1-D arrays to inner product of vectors (without complex conjugation).\n",
        "- For N dimensions it is a sum product over the last axis of a and the second-to-last of b"
      ]
    },
    {
      "cell_type": "code",
      "metadata": {
        "id": "2U8jdH89BFbh",
        "colab_type": "code",
        "outputId": "6d5c5fbc-335a-42ed-90dc-59d2ab08a36a",
        "colab": {
          "base_uri": "https://localhost:8080/",
          "height": 50
        }
      },
      "source": [
        "a.dot(b)\n",
        "# [[1+4+ 9], [2+ 6+12],\n",
        "#  [3+8+15], [4+10+18]]"
      ],
      "execution_count": 0,
      "outputs": [
        {
          "output_type": "execute_result",
          "data": {
            "text/plain": [
              "array([[14, 20],\n",
              "       [26, 32]])"
            ]
          },
          "metadata": {
            "tags": []
          },
          "execution_count": 21
        }
      ]
    },
    {
      "cell_type": "markdown",
      "metadata": {
        "id": "XtMU1druCD64",
        "colab_type": "text"
      },
      "source": [
        "**np.matmul**\n",
        "\n",
        "If either argument is N-D, N > 2, it is treated as a stack of matrices residing in the last two indexes and broadcast accordingly."
      ]
    },
    {
      "cell_type": "code",
      "metadata": {
        "id": "pP1rgozoDCLw",
        "colab_type": "code",
        "outputId": "27039c62-bea0-44ff-8075-b601ef886905",
        "colab": {
          "base_uri": "https://localhost:8080/",
          "height": 50
        }
      },
      "source": [
        "np.matmul(a,b) # a @ b"
      ],
      "execution_count": 0,
      "outputs": [
        {
          "output_type": "execute_result",
          "data": {
            "text/plain": [
              "array([[14, 20],\n",
              "       [26, 32]])"
            ]
          },
          "metadata": {
            "tags": []
          },
          "execution_count": 23
        }
      ]
    },
    {
      "cell_type": "markdown",
      "metadata": {
        "id": "83pso-hDX238",
        "colab_type": "text"
      },
      "source": [
        "##### Reverse - 1D vs 3D"
      ]
    },
    {
      "cell_type": "code",
      "metadata": {
        "id": "7hydmSspX6qa",
        "colab_type": "code",
        "outputId": "4a082f4c-4697-4ad9-cff6-5eca599cc905",
        "colab": {
          "base_uri": "https://localhost:8080/",
          "height": 101
        }
      },
      "source": [
        "b * a # same result"
      ],
      "execution_count": 0,
      "outputs": [
        {
          "output_type": "execute_result",
          "data": {
            "text/plain": [
              "array([[[ 1,  4,  9],\n",
              "        [ 2,  6, 12]],\n",
              "\n",
              "       [[ 3,  8, 15],\n",
              "        [ 4, 10, 18]]])"
            ]
          },
          "metadata": {
            "tags": []
          },
          "execution_count": 88
        }
      ]
    },
    {
      "cell_type": "code",
      "metadata": {
        "id": "wCm8chzyYTJ_",
        "colab_type": "code",
        "colab": {}
      },
      "source": [
        "c = np.array([1,2]) # need to match dim for dot product"
      ],
      "execution_count": 0,
      "outputs": []
    },
    {
      "cell_type": "code",
      "metadata": {
        "id": "sju1LzU0YYLm",
        "colab_type": "code",
        "outputId": "9c857da2-4098-41cc-919f-dcfe9ffc6466",
        "colab": {
          "base_uri": "https://localhost:8080/",
          "height": 50
        }
      },
      "source": [
        "c.dot(a)"
      ],
      "execution_count": 0,
      "outputs": [
        {
          "output_type": "execute_result",
          "data": {
            "text/plain": [
              "array([[ 5,  8, 11],\n",
              "       [11, 14, 17]])"
            ]
          },
          "metadata": {
            "tags": []
          },
          "execution_count": 94
        }
      ]
    },
    {
      "cell_type": "code",
      "metadata": {
        "id": "LbYUAH8ZYM8y",
        "colab_type": "code",
        "outputId": "9846bed8-a393-4b11-9101-d5ff9c87be83",
        "colab": {
          "base_uri": "https://localhost:8080/",
          "height": 50
        }
      },
      "source": [
        "c @ a"
      ],
      "execution_count": 0,
      "outputs": [
        {
          "output_type": "execute_result",
          "data": {
            "text/plain": [
              "array([[ 5,  8, 11],\n",
              "       [11, 14, 17]])"
            ]
          },
          "metadata": {
            "tags": []
          },
          "execution_count": 95
        }
      ]
    },
    {
      "cell_type": "markdown",
      "metadata": {
        "id": "7UdPjM8NdSzx",
        "colab_type": "text"
      },
      "source": [
        "#### 3D array & 2D array"
      ]
    },
    {
      "cell_type": "code",
      "metadata": {
        "id": "NwA9ly3-hrR1",
        "colab_type": "code",
        "outputId": "64e2a1a0-a3e4-47ec-fc55-ec983be17869",
        "colab": {
          "base_uri": "https://localhost:8080/",
          "height": 190
        }
      },
      "source": [
        "a = np.arange(12).reshape((2, 2, 3))\n",
        "b = np.arange(6).reshape((3,2))\n",
        "print(a)\n",
        "print(b)\n",
        "print(a.shape)\n",
        "print(b.shape)"
      ],
      "execution_count": 15,
      "outputs": [
        {
          "output_type": "stream",
          "text": [
            "[[[ 0  1  2]\n",
            "  [ 3  4  5]]\n",
            "\n",
            " [[ 6  7  8]\n",
            "  [ 9 10 11]]]\n",
            "[[0 1]\n",
            " [2 3]\n",
            " [4 5]]\n",
            "(2, 2, 3)\n",
            "(3, 2)\n"
          ],
          "name": "stdout"
        }
      ]
    },
    {
      "cell_type": "code",
      "metadata": {
        "id": "rs_kSCjyp4Bj",
        "colab_type": "code",
        "colab": {
          "base_uri": "https://localhost:8080/",
          "height": 185
        },
        "outputId": "9ac886f8-c197-4368-8c43-7d4a3af1a47c"
      },
      "source": [
        "a * b"
      ],
      "execution_count": 16,
      "outputs": [
        {
          "output_type": "error",
          "ename": "ValueError",
          "evalue": "ignored",
          "traceback": [
            "\u001b[0;31m---------------------------------------------------------------------------\u001b[0m",
            "\u001b[0;31mValueError\u001b[0m                                Traceback (most recent call last)",
            "\u001b[0;32m<ipython-input-16-9bc1a869709f>\u001b[0m in \u001b[0;36m<module>\u001b[0;34m()\u001b[0m\n\u001b[0;32m----> 1\u001b[0;31m \u001b[0ma\u001b[0m \u001b[0;34m*\u001b[0m \u001b[0mb\u001b[0m\u001b[0;34m\u001b[0m\u001b[0;34m\u001b[0m\u001b[0m\n\u001b[0m",
            "\u001b[0;31mValueError\u001b[0m: operands could not be broadcast together with shapes (2,2,3) (3,2) "
          ]
        }
      ]
    },
    {
      "cell_type": "code",
      "metadata": {
        "id": "WkOaNlIwhrlM",
        "colab_type": "code",
        "outputId": "c4b26090-0bf3-4d88-ffbe-248f5a134754",
        "colab": {
          "base_uri": "https://localhost:8080/",
          "height": 101
        }
      },
      "source": [
        "a * b.T # np.multiply(a,b), broadcast and element-wise, shape of b can be (3,) or (2,3) or (2,2,3)"
      ],
      "execution_count": 0,
      "outputs": [
        {
          "output_type": "execute_result",
          "data": {
            "text/plain": [
              "array([[[ 0,  2,  8],\n",
              "        [ 3, 12, 25]],\n",
              "\n",
              "       [[ 0, 14, 32],\n",
              "        [ 9, 30, 55]]])"
            ]
          },
          "metadata": {
            "tags": []
          },
          "execution_count": 59
        }
      ]
    },
    {
      "cell_type": "code",
      "metadata": {
        "id": "gLZ7Ev9sht8i",
        "colab_type": "code",
        "outputId": "f95e4b77-f67c-4625-f3fb-94b6a4b9fab1",
        "colab": {
          "base_uri": "https://localhost:8080/",
          "height": 101
        }
      },
      "source": [
        "a.dot(b)\n",
        "# 2x2x3 x 3x2 = 2x2x2\n",
        "# Result:\n",
        "# [[[0+ 2+ 8, 0+ 3+10],\n",
        "#   [0+ 8+20, 3+12+25]],\n",
        "#\n",
        "#  [[0+14+32, 6+21+40],\n",
        "#   [0+20+44, 9+30+55]]]"
      ],
      "execution_count": 0,
      "outputs": [
        {
          "output_type": "execute_result",
          "data": {
            "text/plain": [
              "array([[[10, 13],\n",
              "        [28, 40]],\n",
              "\n",
              "       [[46, 67],\n",
              "        [64, 94]]])"
            ]
          },
          "metadata": {
            "tags": []
          },
          "execution_count": 62
        }
      ]
    },
    {
      "cell_type": "code",
      "metadata": {
        "id": "YH2zvt4zLrdw",
        "colab_type": "code",
        "outputId": "c225fe1a-0449-44f4-d75c-413014722493",
        "colab": {
          "base_uri": "https://localhost:8080/",
          "height": 101
        }
      },
      "source": [
        "a @ b # same as dot product"
      ],
      "execution_count": 0,
      "outputs": [
        {
          "output_type": "execute_result",
          "data": {
            "text/plain": [
              "array([[[10, 13],\n",
              "        [28, 40]],\n",
              "\n",
              "       [[46, 67],\n",
              "        [64, 94]]])"
            ]
          },
          "metadata": {
            "tags": []
          },
          "execution_count": 61
        }
      ]
    },
    {
      "cell_type": "markdown",
      "metadata": {
        "id": "N0HOikOsZWsP",
        "colab_type": "text"
      },
      "source": [
        "##### Reverse - 2D & 3D"
      ]
    },
    {
      "cell_type": "code",
      "metadata": {
        "id": "3QzhuXlgZYPD",
        "colab_type": "code",
        "outputId": "b96a38a5-a65a-48fd-e598-6dbd73354013",
        "colab": {
          "base_uri": "https://localhost:8080/",
          "height": 185
        }
      },
      "source": [
        "a = np.arange(12).reshape((2, 2, 3))\n",
        "b = np.arange(6).reshape((3,2))\n",
        "print(a)\n",
        "print(b)\n",
        "print(a.shape)\n",
        "print(b.shape)"
      ],
      "execution_count": 0,
      "outputs": [
        {
          "output_type": "stream",
          "text": [
            "[[[ 0  1  2]\n",
            "  [ 3  4  5]]\n",
            "\n",
            " [[ 6  7  8]\n",
            "  [ 9 10 11]]]\n",
            "[[0 1]\n",
            " [2 3]\n",
            " [4 5]]\n",
            "(2, 2, 3)\n",
            "(3, 2)\n"
          ],
          "name": "stdout"
        }
      ]
    },
    {
      "cell_type": "code",
      "metadata": {
        "id": "TU4WYR4ZZicv",
        "colab_type": "code",
        "outputId": "5e6956b7-e709-4186-ff8e-850ce162294e",
        "colab": {
          "base_uri": "https://localhost:8080/",
          "height": 101
        }
      },
      "source": [
        "b.T * a # same result"
      ],
      "execution_count": 0,
      "outputs": [
        {
          "output_type": "execute_result",
          "data": {
            "text/plain": [
              "array([[[ 0,  2,  8],\n",
              "        [ 3, 12, 25]],\n",
              "\n",
              "       [[ 0, 14, 32],\n",
              "        [ 9, 30, 55]]])"
            ]
          },
          "metadata": {
            "tags": []
          },
          "execution_count": 100
        }
      ]
    },
    {
      "cell_type": "code",
      "metadata": {
        "id": "mozuDB1fZtBW",
        "colab_type": "code",
        "outputId": "0f7e098c-d164-49b0-c05c-f57e3225de2c",
        "colab": {
          "base_uri": "https://localhost:8080/",
          "height": 151
        }
      },
      "source": [
        "b.dot(a)"
      ],
      "execution_count": 0,
      "outputs": [
        {
          "output_type": "execute_result",
          "data": {
            "text/plain": [
              "array([[[ 3,  4,  5],\n",
              "        [ 9, 10, 11]],\n",
              "\n",
              "       [[ 9, 14, 19],\n",
              "        [39, 44, 49]],\n",
              "\n",
              "       [[15, 24, 33],\n",
              "        [69, 78, 87]]])"
            ]
          },
          "metadata": {
            "tags": []
          },
          "execution_count": 105
        }
      ]
    },
    {
      "cell_type": "code",
      "metadata": {
        "id": "clMvUNlpZyA3",
        "colab_type": "code",
        "outputId": "b4364c96-ffec-47cc-fc52-2dcdd49e607d",
        "colab": {
          "base_uri": "https://localhost:8080/",
          "height": 134
        }
      },
      "source": [
        "b @ a"
      ],
      "execution_count": 0,
      "outputs": [
        {
          "output_type": "execute_result",
          "data": {
            "text/plain": [
              "array([[[ 3,  4,  5],\n",
              "        [ 9, 14, 19],\n",
              "        [15, 24, 33]],\n",
              "\n",
              "       [[ 9, 10, 11],\n",
              "        [39, 44, 49],\n",
              "        [69, 78, 87]]])"
            ]
          },
          "metadata": {
            "tags": []
          },
          "execution_count": 102
        }
      ]
    },
    {
      "cell_type": "markdown",
      "metadata": {
        "id": "U_iR9tvGbVsi",
        "colab_type": "text"
      },
      "source": [
        "np.dot and np.matmul behavior differently when it comes to ND array\n",
        "\n",
        "matmul -> Stacks of matrices are broadcast together as if the matrices were elements.\n",
        "\n",
        "It only treats last 2 columns as matrix and do 2D matrix multiplication\n",
        "\n",
        "dot -> it is a sum product over the last axis of a and the second-to-last of b"
      ]
    },
    {
      "cell_type": "markdown",
      "metadata": {
        "id": "hjjAz4nyWbS_",
        "colab_type": "text"
      },
      "source": [
        "##### Anther example"
      ]
    },
    {
      "cell_type": "code",
      "metadata": {
        "id": "eFDp-M30Wc-2",
        "colab_type": "code",
        "colab": {}
      },
      "source": [
        "a = np.random.rand(2,2,2)\n",
        "b = np.random.rand(2,2)"
      ],
      "execution_count": 0,
      "outputs": []
    },
    {
      "cell_type": "markdown",
      "metadata": {
        "id": "cWAX-sr3cLwP",
        "colab_type": "text"
      },
      "source": [
        "for 3D x 2D, the result is the same"
      ]
    },
    {
      "cell_type": "code",
      "metadata": {
        "id": "h9Hmtse9WdsX",
        "colab_type": "code",
        "outputId": "c0bfa4fc-17da-4015-e08d-fd31516d984a",
        "colab": {
          "base_uri": "https://localhost:8080/",
          "height": 101
        }
      },
      "source": [
        "a @ b"
      ],
      "execution_count": 0,
      "outputs": [
        {
          "output_type": "execute_result",
          "data": {
            "text/plain": [
              "array([[[0.56374055, 0.08640099],\n",
              "        [0.7334552 , 0.10388443]],\n",
              "\n",
              "       [[1.41197078, 0.19617761],\n",
              "        [0.4764388 , 0.06455949]]])"
            ]
          },
          "metadata": {
            "tags": []
          },
          "execution_count": 77
        }
      ]
    },
    {
      "cell_type": "code",
      "metadata": {
        "id": "o1lCnrJxWfoW",
        "colab_type": "code",
        "outputId": "d5f17602-fea3-41e9-e35c-e90d63b66e6b",
        "colab": {
          "base_uri": "https://localhost:8080/",
          "height": 101
        }
      },
      "source": [
        "a.dot(b)"
      ],
      "execution_count": 0,
      "outputs": [
        {
          "output_type": "execute_result",
          "data": {
            "text/plain": [
              "array([[[0.56374055, 0.08640099],\n",
              "        [0.7334552 , 0.10388443]],\n",
              "\n",
              "       [[1.41197078, 0.19617761],\n",
              "        [0.4764388 , 0.06455949]]])"
            ]
          },
          "metadata": {
            "tags": []
          },
          "execution_count": 78
        }
      ]
    },
    {
      "cell_type": "markdown",
      "metadata": {
        "id": "2oFgiKowcQn2",
        "colab_type": "text"
      },
      "source": [
        "for 2D x 3D , the result is different"
      ]
    },
    {
      "cell_type": "code",
      "metadata": {
        "id": "8NTMEmhaWw22",
        "colab_type": "code",
        "outputId": "4aeea82b-9deb-4397-b267-8d14733b42c2",
        "colab": {
          "base_uri": "https://localhost:8080/",
          "height": 101
        }
      },
      "source": [
        "b @ a"
      ],
      "execution_count": 0,
      "outputs": [
        {
          "output_type": "execute_result",
          "data": {
            "text/plain": [
              "array([[[0.06913136, 0.74882671],\n",
              "        [0.06167257, 0.59849362]],\n",
              "\n",
              "       [[0.83013132, 0.81854009],\n",
              "        [0.65837523, 0.64639895]]])"
            ]
          },
          "metadata": {
            "tags": []
          },
          "execution_count": 75
        }
      ]
    },
    {
      "cell_type": "code",
      "metadata": {
        "id": "l6I7HYdnWyW6",
        "colab_type": "code",
        "outputId": "d19c8058-2521-4e99-a216-4ca936e2646d",
        "colab": {
          "base_uri": "https://localhost:8080/",
          "height": 101
        }
      },
      "source": [
        "b.dot(a)"
      ],
      "execution_count": 0,
      "outputs": [
        {
          "output_type": "execute_result",
          "data": {
            "text/plain": [
              "array([[[0.06913136, 0.74882671],\n",
              "        [0.83013132, 0.81854009]],\n",
              "\n",
              "       [[0.06167257, 0.59849362],\n",
              "        [0.65837523, 0.64639895]]])"
            ]
          },
          "metadata": {
            "tags": []
          },
          "execution_count": 76
        }
      ]
    }
  ]
}